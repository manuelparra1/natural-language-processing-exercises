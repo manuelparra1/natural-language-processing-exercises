{
 "cells": [
  {
   "cell_type": "code",
   "execution_count": 1,
   "id": "6498071c",
   "metadata": {},
   "outputs": [],
   "source": [
    "import re"
   ]
  },
  {
   "cell_type": "code",
   "execution_count": 2,
   "id": "6b14ec57",
   "metadata": {},
   "outputs": [],
   "source": [
    "def show_all_matches(regexes, subject, re_length=6):\n",
    "    print('Sentence:')\n",
    "    print()\n",
    "    print('    {}'.format(subject))\n",
    "    print()\n",
    "    print(' regexp{} | matches'.format(' ' * (re_length - 6)))\n",
    "    print(' ------{} | -------'.format(' ' * (re_length - 6)))\n",
    "    for regexp in regexes:\n",
    "        fmt = ' {:<%d} | {!r}' % re_length\n",
    "        matches = re.findall(regexp, subject)\n",
    "        if len(matches) > 8:\n",
    "            matches = matches[:8] + ['...']\n",
    "        print(fmt.format(regexp, matches))\n"
   ]
  },
  {
   "cell_type": "code",
   "execution_count": 3,
   "id": "6d32dccb",
   "metadata": {},
   "outputs": [
    {
     "name": "stdout",
     "output_type": "stream",
     "text": [
      "Sentence:\n",
      "\n",
      "    Mary had a little lamb. 1 little lamb. Not 10, not 12, not 22, just one.\n",
      "\n",
      " regexp | matches\n",
      " ------ | -------\n",
      " a      | ['a', 'a', 'a', 'a', 'a']\n",
      " m      | ['m', 'm']\n",
      " M      | ['M']\n",
      " Mary   | ['Mary']\n",
      " little | ['little', 'little']\n",
      " 1      | ['1', '1', '1']\n",
      " 10     | ['10']\n",
      " 22     | ['22']\n"
     ]
    }
   ],
   "source": [
    "sentence = 'Mary had a little lamb. 1 little lamb. Not 10, not 12, not 22, just one.'\n",
    "\n",
    "show_all_matches([\n",
    "    r'a',\n",
    "    r'm',\n",
    "    r'M',\n",
    "    r'Mary',\n",
    "    r'little',\n",
    "    r'1',\n",
    "    r'10',\n",
    "    r'22'\n",
    "], sentence)\n"
   ]
  },
  {
   "cell_type": "code",
   "execution_count": 8,
   "id": "3f2ada2e",
   "metadata": {},
   "outputs": [
    {
     "name": "stdout",
     "output_type": "stream",
     "text": [
      "Sentence:\n",
      "\n",
      "    Mary had a little lamb. 1 little lamb. Not 10, not 12, not 22, just one.\n",
      "\n",
      " regexp | matches\n",
      " ------ | -------\n",
      " \\bo\\w+ | ['one']\n",
      " ^\\s    | []\n",
      " ^M     | ['M']\n",
      " \\.\\b   | []\n"
     ]
    }
   ],
   "source": [
    "show_all_matches([\n",
    "    r'\\bo\\w+', # any word that starts with an 'o'\n",
    "    r'^\\s', # starts with a space\n",
    "    r'^M', # starts with 'M'\n",
    "    r'\\.\\b', # ends with a period\n",
    "], sentence)\n"
   ]
  },
  {
   "cell_type": "code",
   "execution_count": null,
   "id": "3a49968b",
   "metadata": {},
   "outputs": [],
   "source": []
  }
 ],
 "metadata": {
  "kernelspec": {
   "display_name": "Python 3 (ipykernel)",
   "language": "python",
   "name": "python3"
  },
  "language_info": {
   "codemirror_mode": {
    "name": "ipython",
    "version": 3
   },
   "file_extension": ".py",
   "mimetype": "text/x-python",
   "name": "python",
   "nbconvert_exporter": "python",
   "pygments_lexer": "ipython3",
   "version": "3.9.15"
  }
 },
 "nbformat": 4,
 "nbformat_minor": 5
}
