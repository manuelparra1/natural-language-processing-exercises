{
 "cells": [
  {
   "cell_type": "markdown",
   "id": "4ddae74c",
   "metadata": {},
   "source": [
    "# Exercises\n",
    "\n",
    "### By the end of this exercise, you should have a file named `acquire.py` that contains the specified functions. If you wish, you may break your work into separate files for each website (e.g. `acquire_codeup_blog.py` and `acquire_news_articles.py`), but the end function should be present in `acquire.py` (that is, `acquire.py` should import `get_blog_articles` from the `acquire_codeup_blog` module.)\n",
    "\n",
    "## 1. Codeup Blog Articles\n",
    "\n",
    "Visit Codeup's Blog and record the urls for at least 5 distinct blog posts. For each post, you should scrape at least the post's title and content.\n",
    "\n",
    "Encapsulate your work in a function named get_blog_articles that will return a list of dictionaries, with each dictionary representing one article. The shape of each dictionary should look like this:\n",
    "```python\n",
    "{\n",
    "    'title': 'the title of the article',\n",
    "    'content': 'the full text content of the article'\n",
    "}\n",
    "```\n",
    "Plus any additional properties you think might be helpful.\n",
    "\n",
    "<b>Bonus:</b> Scrape the text of all the articles linked on [codeup's blog page](https://codeup.com/blog/)."
   ]
  },
  {
   "cell_type": "code",
   "execution_count": 130,
   "id": "cbf4bf1f",
   "metadata": {},
   "outputs": [],
   "source": [
    "from bs4 import BeautifulSoup\n",
    "\n",
    "import requests"
   ]
  },
  {
   "cell_type": "code",
   "execution_count": null,
   "id": "38c57631",
   "metadata": {},
   "outputs": [],
   "source": []
  },
  {
   "cell_type": "code",
   "execution_count": 131,
   "id": "3436fe78",
   "metadata": {},
   "outputs": [],
   "source": [
    "headers = {'User-Agent': 'Codeup Data Science'}"
   ]
  },
  {
   "cell_type": "code",
   "execution_count": 132,
   "id": "72da631c",
   "metadata": {},
   "outputs": [],
   "source": [
    "url = 'https://codeup.com/blog/'\n",
    "\n",
    "response = requests.get(url, headers=headers)\n",
    "#response"
   ]
  },
  {
   "cell_type": "code",
   "execution_count": 133,
   "id": "04bb242e",
   "metadata": {},
   "outputs": [],
   "source": [
    "#response.text"
   ]
  },
  {
   "cell_type": "code",
   "execution_count": 147,
   "id": "8618383d",
   "metadata": {},
   "outputs": [],
   "source": [
    "soup = BeautifulSoup(response.content, 'html.parser')"
   ]
  },
  {
   "cell_type": "code",
   "execution_count": 148,
   "id": "ceeb771b",
   "metadata": {},
   "outputs": [
    {
     "data": {
      "text/plain": [
       "[<h2 class=\"entry-title\"><a href=\"https://codeup.com/codeup-news/panelist-spotlight-4/\">Black Excellence in Tech: Panelist Spotlight – Wilmarie De La Cruz Mejia</a></h2>,\n",
       " <h2 class=\"entry-title\"><a href=\"https://codeup.com/events/black-excellence-in-tech-panelist-spotlight-stephanie-jones/\">Black excellence in tech: Panelist Spotlight – Stephanie Jones</a></h2>,\n",
       " <h2 class=\"entry-title\"><a href=\"https://codeup.com/events/black-excellence-in-tech-panelist-spotlight-james-cooper/\">Black excellence in tech: Panelist Spotlight – James Cooper</a></h2>,\n",
       " <h2 class=\"entry-title\"><a href=\"https://codeup.com/events/black-excellence-in-tech-panelist-spotlight/\">Black excellence in tech: Panelist Spotlight – Jeanice Freeman</a></h2>,\n",
       " <h2 class=\"entry-title\"><a href=\"https://codeup.com/tips-for-prospective-students/coding-bootcamp-or-self-learning/\">Coding Bootcamp or Self-Learning? Which is Best for You?</a></h2>,\n",
       " <h2 class=\"entry-title\"><a href=\"https://codeup.com/codeup-news/codeup-best-bootcamps/\">Codeup Among Top 58 Best Coding Bootcamps of 2023</a></h2>]"
      ]
     },
     "execution_count": 148,
     "metadata": {},
     "output_type": "execute_result"
    }
   ],
   "source": [
    "soup.find_all('h2', class_='entry-title')"
   ]
  },
  {
   "cell_type": "code",
   "execution_count": 149,
   "id": "7de47054",
   "metadata": {},
   "outputs": [],
   "source": [
    "other_tag_content = soup.find('div',class_ = 'entry-content')"
   ]
  },
  {
   "cell_type": "code",
   "execution_count": 150,
   "id": "e94f83ae",
   "metadata": {},
   "outputs": [
    {
     "name": "stdout",
     "output_type": "stream",
     "text": [
      "None\n"
     ]
    }
   ],
   "source": [
    "print(other_tag_content)"
   ]
  },
  {
   "cell_type": "code",
   "execution_count": 151,
   "id": "d48d0536",
   "metadata": {},
   "outputs": [],
   "source": [
    "titles = [element.text for element in soup.find_all('h2', class_='entry-title')]"
   ]
  },
  {
   "cell_type": "code",
   "execution_count": 152,
   "id": "de7e8205",
   "metadata": {},
   "outputs": [
    {
     "data": {
      "text/plain": [
       "'Black Excellence in Tech: Panelist Spotlight – Wilmarie De La Cruz Mejia'"
      ]
     },
     "execution_count": 152,
     "metadata": {},
     "output_type": "execute_result"
    }
   ],
   "source": [
    "titles[0]"
   ]
  },
  {
   "cell_type": "code",
   "execution_count": 153,
   "id": "926e7392",
   "metadata": {},
   "outputs": [
    {
     "data": {
      "text/plain": [
       "[<a class=\"more-link\" href=\"https://codeup.com/codeup-news/panelist-spotlight-4/\">read more</a>,\n",
       " <a class=\"more-link\" href=\"https://codeup.com/events/black-excellence-in-tech-panelist-spotlight-stephanie-jones/\">read more</a>,\n",
       " <a class=\"more-link\" href=\"https://codeup.com/events/black-excellence-in-tech-panelist-spotlight-james-cooper/\">read more</a>,\n",
       " <a class=\"more-link\" href=\"https://codeup.com/events/black-excellence-in-tech-panelist-spotlight/\">read more</a>,\n",
       " <a class=\"more-link\" href=\"https://codeup.com/tips-for-prospective-students/coding-bootcamp-or-self-learning/\">read more</a>,\n",
       " <a class=\"more-link\" href=\"https://codeup.com/codeup-news/codeup-best-bootcamps/\">read more</a>]"
      ]
     },
     "execution_count": 153,
     "metadata": {},
     "output_type": "execute_result"
    }
   ],
   "source": [
    "article_links = soup.find_all('a', class_='more-link')\n",
    "article_links"
   ]
  },
  {
   "cell_type": "code",
   "execution_count": 34,
   "id": "b29957a6",
   "metadata": {},
   "outputs": [
    {
     "name": "stdout",
     "output_type": "stream",
     "text": [
      "https://codeup.com/codeup-news/panelist-spotlight-4/\n",
      "https://codeup.com/events/black-excellence-in-tech-panelist-spotlight-stephanie-jones/\n",
      "https://codeup.com/events/black-excellence-in-tech-panelist-spotlight-james-cooper/\n",
      "https://codeup.com/events/black-excellence-in-tech-panelist-spotlight/\n",
      "https://codeup.com/tips-for-prospective-students/coding-bootcamp-or-self-learning/\n",
      "https://codeup.com/codeup-news/codeup-best-bootcamps/\n"
     ]
    }
   ],
   "source": [
    "for element in article_links:\n",
    "    print(element['href'])"
   ]
  },
  {
   "cell_type": "code",
   "execution_count": 35,
   "id": "194906e2",
   "metadata": {},
   "outputs": [],
   "source": [
    "links_list = []\n",
    "\n",
    "for element in article_links:\n",
    "    links_list.append(element['href'])"
   ]
  },
  {
   "cell_type": "code",
   "execution_count": 36,
   "id": "511c07a0",
   "metadata": {},
   "outputs": [
    {
     "data": {
      "text/plain": [
       "['https://codeup.com/codeup-news/panelist-spotlight-4/',\n",
       " 'https://codeup.com/events/black-excellence-in-tech-panelist-spotlight-stephanie-jones/',\n",
       " 'https://codeup.com/events/black-excellence-in-tech-panelist-spotlight-james-cooper/',\n",
       " 'https://codeup.com/events/black-excellence-in-tech-panelist-spotlight/',\n",
       " 'https://codeup.com/tips-for-prospective-students/coding-bootcamp-or-self-learning/',\n",
       " 'https://codeup.com/codeup-news/codeup-best-bootcamps/']"
      ]
     },
     "execution_count": 36,
     "metadata": {},
     "output_type": "execute_result"
    }
   ],
   "source": [
    "links_list"
   ]
  },
  {
   "cell_type": "code",
   "execution_count": 37,
   "id": "311acdb7",
   "metadata": {},
   "outputs": [
    {
     "data": {
      "text/plain": [
       "['Black Excellence in Tech: Panelist Spotlight – Wilmarie De La Cruz Mejia',\n",
       " 'Black excellence in tech: Panelist Spotlight – Stephanie Jones',\n",
       " 'Black excellence in tech: Panelist Spotlight – James Cooper',\n",
       " 'Black excellence in tech: Panelist Spotlight – Jeanice Freeman',\n",
       " 'Coding Bootcamp or Self-Learning? Which is Best for You?',\n",
       " 'Codeup Among Top 58 Best Coding Bootcamps of 2023']"
      ]
     },
     "execution_count": 37,
     "metadata": {},
     "output_type": "execute_result"
    }
   ],
   "source": [
    "titles"
   ]
  },
  {
   "cell_type": "code",
   "execution_count": 45,
   "id": "e94ae93b",
   "metadata": {},
   "outputs": [
    {
     "data": {
      "text/plain": [
       "['https://codeup.com/codeup-news/panelist-spotlight-4/',\n",
       " 'https://codeup.com/events/black-excellence-in-tech-panelist-spotlight-stephanie-jones/',\n",
       " 'https://codeup.com/events/black-excellence-in-tech-panelist-spotlight-james-cooper/',\n",
       " 'https://codeup.com/events/black-excellence-in-tech-panelist-spotlight/',\n",
       " 'https://codeup.com/tips-for-prospective-students/coding-bootcamp-or-self-learning/',\n",
       " 'https://codeup.com/codeup-news/codeup-best-bootcamps/']"
      ]
     },
     "execution_count": 45,
     "metadata": {},
     "output_type": "execute_result"
    }
   ],
   "source": [
    "links_list"
   ]
  },
  {
   "cell_type": "code",
   "execution_count": 42,
   "id": "837b6904",
   "metadata": {},
   "outputs": [],
   "source": [
    "article_content = requests.get(links_list[0], headers=headers)\n",
    "article1 = BeautifulSoup(article_content.content, 'html.parser')"
   ]
  },
  {
   "cell_type": "code",
   "execution_count": 155,
   "id": "a2cf8c56",
   "metadata": {},
   "outputs": [],
   "source": [
    "articles_divs = article1.find('div',class_ = 'entry-content')"
   ]
  },
  {
   "cell_type": "code",
   "execution_count": 158,
   "id": "ffa2465d",
   "metadata": {},
   "outputs": [
    {
     "data": {
      "text/plain": [
       "<div class=\"entry-content\">\n",
       "<h2>Black excellence in tech: Panelist Spotlight – Wilmarie De La Cruz Mejia</h2>\n",
       "<p><img alt=\"panelist spotlight\" class=\"wp-image-19633 alignleft\" decoding=\"async\" height=\"131\" src=\"https://tribucodeup.wpenginepowered.com/wp-content/uploads/2023/02/AC8DABF2-2FDC-4C5A-A9B2-22EBCA4187AD-296x300.jpeg\" width=\"129\"/></p>\n",
       "<p><span style=\"font-weight: 400;\">Codeup is hosting a Black Excellence in Tech Panel in honor of Black History Month on February 22, 2023! To further celebrate, we’d like to spotlight each of our panelists leading up to the discussion to learn a bit about their respective experiences as black leaders in the tech industry!  </span></p>\n",
       "<p><strong>Meet Wilmarie!</strong></p>\n",
       "<p><a href=\"https://www.linkedin.com/in/wilmarie-de-la-cruz-b91338162/\"><span style=\"font-weight: 400;\">Wilmarie De</span></a><a href=\"https://www.linkedin.com/in/wilmarie-de-la-cruz-b91338162/\"><span style=\"font-weight: 400;\"> La Cruz Mejia</span></a><span style=\"font-weight: 400;\"> is a current Codeup student on the path to becoming a Full-Stack Web Developer at our Dallas, TX campus. </span></p>\n",
       "<p><span style=\"font-weight: 400;\">Wilmarie is a veteran expanding her knowledge of programming languages and technologies on her journey with Codeup. </span></p>\n",
       "<p><span style=\"font-weight: 400;\">We asked Wilmarie to share more about her experience at Codeup. She shares, “</span><span style=\"font-weight: 400;\">I was able to meet other people who were passionate about coding and be in a positive learning environment.”</span></p>\n",
       "<p><span style=\"font-weight: 400;\">We hope you can <a href=\"https://codeup.com/event/codeup-black-excellence-in-tech-panel-discussion/\">join us</a> on February 22nd to sit in on an insightful conversation with Wilmarie and all of our panelists!</span></p>\n",
       "</div>"
      ]
     },
     "execution_count": 158,
     "metadata": {},
     "output_type": "execute_result"
    }
   ],
   "source": [
    "articles_divs"
   ]
  },
  {
   "cell_type": "code",
   "execution_count": null,
   "id": "bc502bd8",
   "metadata": {},
   "outputs": [],
   "source": [
    "#summary_list=[]\n",
    "#titles = soup.find_all('span',itemprop='headline)')\n",
    "#summaries = soup.findall('div',itemprop='articleBody')\n",
    "#for i in range(len(titles)):\n",
    "#temp_dict ={'title':titles[i]} \n",
    "#summary_list.append(temp_dict)"
   ]
  },
  {
   "cell_type": "code",
   "execution_count": null,
   "id": "f4f5abea",
   "metadata": {},
   "outputs": [],
   "source": [
    "#get_news(topic_list):\n",
    "#for topic in topic_list\n",
    "#scape_page(topic)"
   ]
  },
  {
   "cell_type": "code",
   "execution_count": 43,
   "id": "3e4fc2b9",
   "metadata": {},
   "outputs": [],
   "source": [
    "list_of_p_elements = article1.find_all('p')"
   ]
  },
  {
   "cell_type": "code",
   "execution_count": null,
   "id": "5d5f8c93",
   "metadata": {},
   "outputs": [],
   "source": []
  },
  {
   "cell_type": "code",
   "execution_count": null,
   "id": "46c9f80b",
   "metadata": {},
   "outputs": [],
   "source": []
  },
  {
   "cell_type": "code",
   "execution_count": 49,
   "id": "914c43a5",
   "metadata": {},
   "outputs": [
    {
     "name": "stdout",
     "output_type": "stream",
     "text": [
      "https://codeup.com/codeup-news/panelist-spotlight-4/\n",
      "https://codeup.com/events/black-excellence-in-tech-panelist-spotlight-stephanie-jones/\n",
      "https://codeup.com/events/black-excellence-in-tech-panelist-spotlight-james-cooper/\n",
      "https://codeup.com/events/black-excellence-in-tech-panelist-spotlight/\n",
      "https://codeup.com/tips-for-prospective-students/coding-bootcamp-or-self-learning/\n",
      "https://codeup.com/codeup-news/codeup-best-bootcamps/\n"
     ]
    }
   ],
   "source": [
    "for i in links_list:\n",
    "    print(i)"
   ]
  },
  {
   "cell_type": "markdown",
   "id": "5733705f",
   "metadata": {},
   "source": [
    "# New Way"
   ]
  },
  {
   "cell_type": "code",
   "execution_count": 114,
   "id": "2660d264",
   "metadata": {},
   "outputs": [],
   "source": [
    "empty_list=[]\n",
    "for i,j in enumerate(links_list):\n",
    "    article_link = requests.get(j,headers=headers)\n",
    "    article_soup = BeautifulSoup(article_link.content, 'html.parser')\n",
    "    soup_elements = article_soup.find_all('p')\n",
    "    for article in soup_elements:\n",
    "        body = []\n",
    "        body.append(article.text)\n",
    "    empty_list.append([body])"
   ]
  },
  {
   "cell_type": "code",
   "execution_count": 123,
   "id": "803e781c",
   "metadata": {},
   "outputs": [],
   "source": [
    "j = links_list[0]\n",
    "article_link = requests.get(j,headers=headers)\n",
    "article_soup = BeautifulSoup(article_link.content, 'html.parser')\n",
    "soup_elements = article_soup.find_all('p')"
   ]
  },
  {
   "cell_type": "code",
   "execution_count": 125,
   "id": "98f89456",
   "metadata": {},
   "outputs": [],
   "source": [
    "body = []"
   ]
  },
  {
   "cell_type": "code",
   "execution_count": 124,
   "id": "781e85ca",
   "metadata": {},
   "outputs": [
    {
     "name": "stdout",
     "output_type": "stream",
     "text": [
      "Feb 16, 2023 | Codeup News, Events, Featured\n",
      "\n",
      "Codeup is hosting a Black Excellence in Tech Panel in honor of Black History Month on February 22, 2023! To further celebrate, we’d like to spotlight each of our panelists leading up to the discussion to learn a bit about their respective experiences as black leaders in the tech industry!  \n",
      "Meet Wilmarie!\n",
      "Wilmarie De La Cruz Mejia is a current Codeup student on the path to becoming a Full-Stack Web Developer at our Dallas, TX campus. \n",
      "Wilmarie is a veteran expanding her knowledge of programming languages and technologies on her journey with Codeup. \n",
      "We asked Wilmarie to share more about her experience at Codeup. She shares, “I was able to meet other people who were passionate about coding and be in a positive learning environment.”\n",
      "We hope you can join us on February 22nd to sit in on an insightful conversation with Wilmarie and all of our panelists!\n",
      "\n",
      "\n",
      "\n",
      "Submit your email address to gain access to more information about our programs, financial aid, and benefits. We may even send you some free swag!\n",
      "(210) 802–7289\n",
      "Dallas | San Antonio \n",
      "Why Codeup? Financial Aid Options Student Reviews Employers Refund PolicyFAQsCareersMedia Kit\n",
      "© 2013-2022 Copyright. Privacy Policy | Complaint Policy | Inclusion | Accessibility | Sitemap\n",
      "If you love researching data and reading the fine print, you’ll do well in our programs.\n"
     ]
    }
   ],
   "source": [
    "for article in soup_elements:\n",
    "    #print(article.text)\n",
    "     \n",
    "    #body.append(article.text)"
   ]
  },
  {
   "cell_type": "code",
   "execution_count": 159,
   "id": "a904a82f",
   "metadata": {},
   "outputs": [],
   "source": [
    "empty_list = []\n",
    "for link in links_list:\n",
    "    article_link = requests.get(link, headers=headers)\n",
    "    article_soup = BeautifulSoup(article_link.content, 'html.parser')\n",
    "    soup_elements = article_soup.find_all('p')\n",
    "    body = []\n",
    "    for article in soup_elements:\n",
    "        body.append(article.text)\n",
    "    empty_list.extend(body)  # append all texts to empty_list"
   ]
  },
  {
   "cell_type": "code",
   "execution_count": 163,
   "id": "f0ff338f",
   "metadata": {},
   "outputs": [],
   "source": [
    "second_empty_list = []\n",
    "for article_link in links_list:\n",
    "    current_request = requests.get(article_link,headers=headers)\n",
    "    current_soup = BeautifulSoup(current_request.content,'html.parser')\n",
    "    current_soup_element = current_soup.find('div', class_='entry-content').text\n",
    "    second_empty_list.append(current_soup_element)"
   ]
  },
  {
   "cell_type": "code",
   "execution_count": 165,
   "id": "80de7e92",
   "metadata": {},
   "outputs": [
    {
     "data": {
      "text/plain": [
       "'\\nBlack excellence in tech: Panelist Spotlight – Wilmarie De La Cruz Mejia\\n\\nCodeup is hosting a Black Excellence in Tech Panel in honor of Black History Month on February 22, 2023! To further celebrate, we’d like to spotlight each of our panelists leading up to the discussion to learn a bit about their respective experiences as black leaders in the tech industry!\\xa0\\xa0\\nMeet Wilmarie!\\nWilmarie De\\xa0La Cruz Mejia is a current Codeup student on the path to becoming a Full-Stack Web Developer at our Dallas, TX campus.\\xa0\\nWilmarie is a veteran expanding her knowledge of programming languages and technologies on her journey with Codeup.\\xa0\\nWe asked Wilmarie to share more about her experience at Codeup. She shares, “I was able to meet other people who were passionate about coding and be in a positive learning environment.”\\nWe hope you can join us on February 22nd to sit in on an insightful conversation with Wilmarie and all of our panelists!\\n'"
      ]
     },
     "execution_count": 165,
     "metadata": {},
     "output_type": "execute_result"
    }
   ],
   "source": [
    "second_empty_list[0]"
   ]
  },
  {
   "cell_type": "markdown",
   "id": "eed8e5f8",
   "metadata": {},
   "source": [
    "# Review Version"
   ]
  },
  {
   "cell_type": "code",
   "execution_count": null,
   "id": "396f3d95",
   "metadata": {},
   "outputs": [],
   "source": [
    "def get_blog_articles(article_list):\n",
    "    \n",
    "    file = 'blog_posts.json'\n",
    "    \n",
    "    if os.path.exists(file):\n",
    "        \n",
    "        with open(file) as f:\n",
    "        \n",
    "            return json.load(f)\n",
    "    \n",
    "    headers = {'User-Agent': 'Codeup Data Science'}\n",
    "    \n",
    "    article_info = []\n",
    "    \n",
    "    for article in article_list:\n",
    "        \n",
    "        response = get(article, headers=headers)\n",
    "        \n",
    "        soup = BeautifulSoup(response.content, 'html.parser')\n",
    "        \n",
    "        info_dict = {'title': soup.find('h1').text,\n",
    "                     'link': link,\n",
    "                     'date_published': soup.find('span', class_='published').text,\n",
    "                     'content': soup.find('div', class_='entry-content').text}\n",
    "    \n",
    "        article_info.append(info_dict)\n",
    "        \n",
    "    with open(file, 'w') as f:\n",
    "        \n",
    "        json.dump(article_info, f)\n",
    "        \n",
    "    return article_info    "
   ]
  },
  {
   "cell_type": "code",
   "execution_count": 168,
   "id": "bc4d7ced",
   "metadata": {},
   "outputs": [],
   "source": [
    "import pandas as pd"
   ]
  },
  {
   "cell_type": "code",
   "execution_count": null,
   "id": "332456da",
   "metadata": {},
   "outputs": [],
   "source": [
    "pd.date_range()"
   ]
  },
  {
   "cell_type": "code",
   "execution_count": null,
   "id": "3f005e07",
   "metadata": {},
   "outputs": [],
   "source": [
    "def get_blog_articles():\n",
    "    title = [\"b\",\"c\",\"d\"]\n",
    "    content = [\"a\",\"b\",\"c\"]\n",
    "    articles = [{'title':title,'content':content}]\n",
    "    return articles\n"
   ]
  },
  {
   "cell_type": "code",
   "execution_count": 31,
   "id": "f495356b",
   "metadata": {},
   "outputs": [],
   "source": [
    "#soup.find_all(class_='entry-content')"
   ]
  },
  {
   "cell_type": "markdown",
   "id": "da3b079f",
   "metadata": {},
   "source": [
    "study later\n",
    "```python\n",
    "divs = soup.find_all(class_='entry-content')\n",
    "\n",
    "for div in divs:\n",
    "\n",
    "   print(div.find(\"p\"))\n",
    "```"
   ]
  },
  {
   "cell_type": "code",
   "execution_count": 32,
   "id": "e564d006",
   "metadata": {},
   "outputs": [],
   "source": [
    "#soup.find('p')"
   ]
  },
  {
   "cell_type": "code",
   "execution_count": 33,
   "id": "a93e3c83",
   "metadata": {},
   "outputs": [],
   "source": [
    "#soup.select(\"p\")"
   ]
  },
  {
   "cell_type": "code",
   "execution_count": null,
   "id": "8fc28476",
   "metadata": {},
   "outputs": [],
   "source": []
  },
  {
   "cell_type": "code",
   "execution_count": null,
   "id": "dfd6e33e",
   "metadata": {},
   "outputs": [],
   "source": [
    "url = 'https://codeup.com/data-science/math-in-data-science/'\n",
    "headers = {'User-Agent': 'Codeup Data Science'} # Some websites don't accept the pyhon-requests default user-agent\n",
    "response = get(url, headers=headers)"
   ]
  }
 ],
 "metadata": {
  "kernelspec": {
   "display_name": "Python 3 (ipykernel)",
   "language": "python",
   "name": "python3"
  },
  "language_info": {
   "codemirror_mode": {
    "name": "ipython",
    "version": 3
   },
   "file_extension": ".py",
   "mimetype": "text/x-python",
   "name": "python",
   "nbconvert_exporter": "python",
   "pygments_lexer": "ipython3",
   "version": "3.9.15"
  }
 },
 "nbformat": 4,
 "nbformat_minor": 5
}
